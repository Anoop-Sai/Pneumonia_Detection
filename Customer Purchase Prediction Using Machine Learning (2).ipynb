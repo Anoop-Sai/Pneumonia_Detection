{
 "cells": [
  {
   "cell_type": "code",
   "execution_count": 1,
   "id": "b759689b",
   "metadata": {},
   "outputs": [],
   "source": [
    "import pandas as pd\n",
    "import numpy as np\n",
    "import matplotlib.pyplot as plt\n",
    "import seaborn as sns\n",
    "from sklearn.preprocessing import StandardScaler,MinMaxScaler,RobustScaler,LabelEncoder\n",
    "from sklearn.tree import DecisionTreeClassifier\n",
    "from sklearn.model_selection import train_test_split\n",
    "from sklearn.ensemble import RandomForestClassifier\n",
    "from sklearn.naive_bayes import GaussianNB\n",
    "from sklearn.svm import SVC\n",
    "from sklearn.neighbors import KNeighborsClassifier\n",
    "from sklearn.linear_model import LogisticRegression\n",
    "from xgboost import XGBClassifier\n",
    "from sklearn.metrics import accuracy_score, precision_score, recall_score, f1_score, confusion_matrix"
   ]
  },
  {
   "cell_type": "code",
   "execution_count": 2,
   "id": "f887b0cd",
   "metadata": {},
   "outputs": [],
   "source": [
    "#load the dataset(Ihave collected this dataset from kaggle)\n",
    "data = pd.read_csv(\"customer_purchase_data.csv\")"
   ]
  },
  {
   "cell_type": "code",
   "execution_count": 3,
   "id": "798c3c78",
   "metadata": {},
   "outputs": [
    {
     "name": "stdout",
     "output_type": "stream",
     "text": [
      "<class 'pandas.core.frame.DataFrame'>\n",
      "RangeIndex: 1500 entries, 0 to 1499\n",
      "Data columns (total 9 columns):\n",
      " #   Column              Non-Null Count  Dtype  \n",
      "---  ------              --------------  -----  \n",
      " 0   Age                 1500 non-null   int64  \n",
      " 1   Gender              1500 non-null   int64  \n",
      " 2   AnnualIncome        1500 non-null   float64\n",
      " 3   NumberOfPurchases   1500 non-null   int64  \n",
      " 4   ProductCategory     1500 non-null   int64  \n",
      " 5   TimeSpentOnWebsite  1500 non-null   float64\n",
      " 6   LoyaltyProgram      1500 non-null   int64  \n",
      " 7   DiscountsAvailed    1500 non-null   int64  \n",
      " 8   PurchaseStatus      1500 non-null   int64  \n",
      "dtypes: float64(2), int64(7)\n",
      "memory usage: 105.6 KB\n"
     ]
    }
   ],
   "source": [
    "#checking the data\n",
    "data.describe()\n",
    "data.info()\n"
   ]
  },
  {
   "cell_type": "code",
   "execution_count": 4,
   "id": "4d468362",
   "metadata": {},
   "outputs": [
    {
     "name": "stdout",
     "output_type": "stream",
     "text": [
      "Dataset Shape: (1500, 9)\n"
     ]
    }
   ],
   "source": [
    "# Check the shape of the dataset\n",
    "print(f\"Dataset Shape: {data.shape}\")"
   ]
  },
  {
   "cell_type": "code",
   "execution_count": 5,
   "id": "aadf5cdb",
   "metadata": {},
   "outputs": [],
   "source": [
    "# Encoding categorical variables using one-hot encoder beacuse we use nominal dataset where Categories have no natural order or ranking\n",
    "data = pd.get_dummies(data, columns=['ProductCategory'],prefix = 'product')\n"
   ]
  },
  {
   "cell_type": "code",
   "execution_count": 6,
   "id": "11906557",
   "metadata": {},
   "outputs": [
    {
     "name": "stdout",
     "output_type": "stream",
     "text": [
      "Age                   0\n",
      "Gender                0\n",
      "AnnualIncome          0\n",
      "NumberOfPurchases     0\n",
      "TimeSpentOnWebsite    0\n",
      "LoyaltyProgram        0\n",
      "DiscountsAvailed      0\n",
      "PurchaseStatus        0\n",
      "product_0             0\n",
      "product_1             0\n",
      "product_2             0\n",
      "product_3             0\n",
      "product_4             0\n",
      "dtype: int64\n"
     ]
    }
   ],
   "source": [
    "print(data.isnull().sum())"
   ]
  },
  {
   "cell_type": "code",
   "execution_count": 7,
   "id": "49c718e6",
   "metadata": {},
   "outputs": [],
   "source": [
    "#separate the data into features and target variables\n",
    "X = data.drop('PurchaseStatus', axis=1)\n",
    "y = data['PurchaseStatus']"
   ]
  },
  {
   "cell_type": "code",
   "execution_count": 8,
   "id": "b514b559",
   "metadata": {},
   "outputs": [],
   "source": [
    "#Scaling gthe features\n",
    "scaler = StandardScaler()\n",
    "X_scaled = scaler.fit_transform(X)"
   ]
  },
  {
   "cell_type": "code",
   "execution_count": 9,
   "id": "ccf4e848",
   "metadata": {},
   "outputs": [],
   "source": [
    "#Split the data into testing and training\n",
    "x_train, x_test, y_train, y_test = train_test_split(X_scaled, y, test_size=0.2, random_state=42)"
   ]
  },
  {
   "cell_type": "code",
   "execution_count": 10,
   "id": "e9d074fe",
   "metadata": {},
   "outputs": [],
   "source": [
    "# Models - Random forest\n",
    "rf_model = RandomForestClassifier(random_state=42).fit(x_train,y_train)\n",
    "y_pred_rf=rf_model.predict(x_test)\n"
   ]
  },
  {
   "cell_type": "code",
   "execution_count": 11,
   "id": "63042312",
   "metadata": {},
   "outputs": [],
   "source": [
    "#Evaluvate the model\n",
    "accuracy_rf=accuracy_score(y_test,y_pred_rf)\n",
    "precision_rf=precision_score(y_test,y_pred_rf)\n",
    "recall_rf=recall_score(y_test,y_pred_rf)\n",
    "f1_rf=f1_score(y_test,y_pred_rf)\n",
    "cm_rf=confusion_matrix(y_test,y_pred_rf)\n",
    "\n"
   ]
  },
  {
   "cell_type": "code",
   "execution_count": 12,
   "id": "17a514c6",
   "metadata": {},
   "outputs": [
    {
     "name": "stdout",
     "output_type": "stream",
     "text": [
      "Random Forest:\n",
      " Accuracy: 0.9566666666666667\n",
      " Precision: 0.9914529914529915\n",
      " Recall: 0.90625\n",
      " F1 Score: 0.9469387755102041\n"
     ]
    },
    {
     "data": {
      "image/png": "[encoded data removed]",
      "text/plain": [
       "<Figure size 432x288 with 2 Axes>"
      ]
     },
     "metadata": {
      "needs_background": "light"
     },
     "output_type": "display_data"
    }
   ],
   "source": [
    "#Print the results\n",
    "print(f'Random Forest:\\n Accuracy: {accuracy_rf}\\n Precision: {precision_rf}\\n Recall: {recall_rf}\\n F1 Score: {f1_rf}')\n",
    "sns.heatmap(cm_rf, annot=True, fmt='d', cmap='gray')\n",
    "plt.title('Random Forest Confusion Matrix')\n",
    "plt.show()"
   ]
  },
  {
   "cell_type": "code",
   "execution_count": 13,
   "id": "79737297",
   "metadata": {},
   "outputs": [],
   "source": [
    "#Lets try with decison tree model\n",
    "dt_model = DecisionTreeClassifier(random_state=42).fit(x_train, y_train)\n",
    "y_pred_dt = dt_model.predict(x_test)"
   ]
  },
  {
   "cell_type": "code",
   "execution_count": 14,
   "id": "e6d45100",
   "metadata": {},
   "outputs": [],
   "source": [
    "#evaluvate the model\n",
    "accuracy_dt = accuracy_score(y_test, y_pred_dt)\n",
    "precision_dt = precision_score(y_test, y_pred_dt)\n",
    "recall_dt = recall_score(y_test, y_pred_dt)\n",
    "f1_dt = f1_score(y_test, y_pred_dt)\n",
    "cm_dt = confusion_matrix(y_test, y_pred_dt)"
   ]
  },
  {
   "cell_type": "code",
   "execution_count": 15,
   "id": "83dd2026",
   "metadata": {},
   "outputs": [
    {
     "name": "stdout",
     "output_type": "stream",
     "text": [
      "Decision Tree Classifier:\n",
      " Accuracy: 0.9033333333333333\n",
      " Precision: 0.9304347826086956\n",
      " Recall: 0.8359375\n",
      " F1 Score: 0.8806584362139918\n"
     ]
    },
    {
     "data": {
      "image/png": "[encoded data removed]",
      "text/plain": [
       "<Figure size 432x288 with 2 Axes>"
      ]
     },
     "metadata": {
      "needs_background": "light"
     },
     "output_type": "display_data"
    }
   ],
   "source": [
    "#print the results\n",
    "print(f'Decision Tree Classifier:\\n Accuracy: {accuracy_dt}\\n Precision: {precision_dt}\\n Recall: {recall_dt}\\n F1 Score: {f1_dt}')\n",
    "sns.heatmap(cm_dt, annot=True, fmt='d', cmap='gray')\n",
    "plt.title('Decision Tree Confusion Matrix')\n",
    "plt.show()"
   ]
  },
  {
   "cell_type": "code",
   "execution_count": 16,
   "id": "3bd92620",
   "metadata": {},
   "outputs": [],
   "source": [
    "#Naive Bayes Model\n",
    "nb_model = GaussianNB()\n",
    "nb_model.fit(x_train, y_train)\n",
    "y_pred_nb = nb_model.predict(x_test)"
   ]
  },
  {
   "cell_type": "code",
   "execution_count": 17,
   "id": "ccf6ab63",
   "metadata": {},
   "outputs": [],
   "source": [
    "#evaluvate the model\n",
    "accuracy_dt = accuracy_score(y_test, y_pred_nb)\n",
    "precision_dt = precision_score(y_test, y_pred_nb)\n",
    "recall_dt = recall_score(y_test, y_pred_nb)\n",
    "f1_dt = f1_score(y_test, y_pred_nb)\n",
    "cm_dt = confusion_matrix(y_test, y_pred_nb)"
   ]
  },
  {
   "cell_type": "code",
   "execution_count": 18,
   "id": "b5431f66",
   "metadata": {},
   "outputs": [
    {
     "name": "stdout",
     "output_type": "stream",
     "text": [
      "Naive Bayes:\n",
      " Accuracy: 0.8366666666666667\n",
      " Precision: 0.898989898989899\n",
      " Recall: 0.6953125\n",
      " F1 Score: 0.7841409691629956\n"
     ]
    },
    {
     "data": {
      "image/png": "[encoded data removed]",
      "text/plain": [
       "<Figure size 432x288 with 2 Axes>"
      ]
     },
     "metadata": {
      "needs_background": "light"
     },
     "output_type": "display_data"
    }
   ],
   "source": [
    "#print the results\n",
    "print(f'Naive Bayes:\\n Accuracy: {accuracy_dt}\\n Precision: {precision_dt}\\n Recall: {recall_dt}\\n F1 Score: {f1_dt}')\n",
    "sns.heatmap(cm_dt, annot=True, fmt='d', cmap='gray')\n",
    "plt.title('Naive Bayes Confusion Matrix')\n",
    "plt.show()"
   ]
  },
  {
   "cell_type": "code",
   "execution_count": 19,
   "id": "e9bb8f92",
   "metadata": {},
   "outputs": [],
   "source": [
    "#Support vector machine\n",
    "svm_model = SVC(random_state=42)\n",
    "svm_model.fit(x_train, y_train)\n",
    "y_pred_svm = svm_model.predict(x_test)"
   ]
  },
  {
   "cell_type": "code",
   "execution_count": 20,
   "id": "38ad6cd8",
   "metadata": {},
   "outputs": [],
   "source": [
    "#evaluvate the model\n",
    "accuracy_dt = accuracy_score(y_test, y_pred_svm)\n",
    "precision_dt = precision_score(y_test, y_pred_svm)\n",
    "recall_dt = recall_score(y_test, y_pred_svm)\n",
    "f1_dt = f1_score(y_test, y_pred_svm)\n",
    "cm_dt = confusion_matrix(y_test, y_pred_svm)"
   ]
  },
  {
   "cell_type": "code",
   "execution_count": 21,
   "id": "34718689",
   "metadata": {},
   "outputs": [
    {
     "name": "stdout",
     "output_type": "stream",
     "text": [
      "Support Vector Machine:\n",
      " Accuracy: 0.85\n",
      " Precision: 0.8952380952380953\n",
      " Recall: 0.734375\n",
      " F1 Score: 0.8068669527896996\n"
     ]
    },
    {
     "data": {
      "image/png": "[encoded data removed]",
      "text/plain": [
       "<Figure size 432x288 with 2 Axes>"
      ]
     },
     "metadata": {
      "needs_background": "light"
     },
     "output_type": "display_data"
    }
   ],
   "source": [
    "#print the results\n",
    "print(f'Support Vector Machine:\\n Accuracy: {accuracy_dt}\\n Precision: {precision_dt}\\n Recall: {recall_dt}\\n F1 Score: {f1_dt}')\n",
    "sns.heatmap(cm_dt, annot=True, fmt='d', cmap='gray')\n",
    "plt.title('Support vector machine Confusion Matrix')\n",
    "plt.show()"
   ]
  },
  {
   "cell_type": "code",
   "execution_count": 32,
   "id": "cb3755c2",
   "metadata": {},
   "outputs": [],
   "source": [
    "#Logisctic regression model\n",
    "lr_model = LogisticRegression(random_state=42)\n",
    "lr_model.fit(x_train, y_train)\n",
    "y_pred_lr = lr_model.predict(x_test)"
   ]
  },
  {
   "cell_type": "code",
   "execution_count": 23,
   "id": "1c72aa82",
   "metadata": {},
   "outputs": [],
   "source": [
    "#evaluvate the model\n",
    "accuracy_dt = accuracy_score(y_test, y_pred_lr)\n",
    "precision_dt = precision_score(y_test, y_pred_lr)\n",
    "recall_dt = recall_score(y_test, y_pred_lr)\n",
    "f1_dt = f1_score(y_test, y_pred_lr)\n",
    "cm_dt = confusion_matrix(y_test, y_pred_lr)"
   ]
  },
  {
   "cell_type": "code",
   "execution_count": 24,
   "id": "85b85301",
   "metadata": {
    "scrolled": true
   },
   "outputs": [
    {
     "name": "stdout",
     "output_type": "stream",
     "text": [
      "Logistic regression:\n",
      " Accuracy: 0.8366666666666667\n",
      " Precision: 0.8761904761904762\n",
      " Recall: 0.71875\n",
      " F1 Score: 0.7896995708154506\n"
     ]
    },
    {
     "data": {
      "image/png": "[encoded data removed]",
      "text/plain": [
       "<Figure size 432x288 with 2 Axes>"
      ]
     },
     "metadata": {
      "needs_background": "light"
     },
     "output_type": "display_data"
    }
   ],
   "source": [
    "#print the results\n",
    "print(f'Logistic regression:\\n Accuracy: {accuracy_dt}\\n Precision: {precision_dt}\\n Recall: {recall_dt}\\n F1 Score: {f1_dt}')\n",
    "sns.heatmap(cm_dt, annot=True, fmt='d', cmap='gray')\n",
    "plt.title('Logistic Regression Confusion Matrix')\n",
    "plt.show()"
   ]
  },
  {
   "cell_type": "code",
   "execution_count": 25,
   "id": "7e37239d",
   "metadata": {},
   "outputs": [],
   "source": [
    "#Kneihbours Classifier\n",
    "Knc_model = KNeighborsClassifier()\n",
    "Knc_model.fit(x_train, y_train)\n",
    "y_pred_Knc = Knc_model.predict(x_test)"
   ]
  },
  {
   "cell_type": "code",
   "execution_count": 26,
   "id": "a80cc869",
   "metadata": {},
   "outputs": [],
   "source": [
    "#evaluvate the model\n",
    "accuracy_dt = accuracy_score(y_test, y_pred_Knc)\n",
    "precision_dt = precision_score(y_test, y_pred_Knc)\n",
    "recall_dt = recall_score(y_test, y_pred_Knc)\n",
    "f1_dt = f1_score(y_test, y_pred_Knc)\n",
    "cm_dt = confusion_matrix(y_test, y_pred_Knc)"
   ]
  },
  {
   "cell_type": "code",
   "execution_count": 27,
   "id": "aaeb232f",
   "metadata": {},
   "outputs": [
    {
     "name": "stdout",
     "output_type": "stream",
     "text": [
      "Kneihbours Classifier:\n",
      " Accuracy: 0.7966666666666666\n",
      " Precision: 0.8018018018018018\n",
      " Recall: 0.6953125\n",
      " F1 Score: 0.7447698744769874\n"
     ]
    },
    {
     "data": {
      "image/png": "[encoded data removed]",
      "text/plain": [
       "<Figure size 432x288 with 2 Axes>"
      ]
     },
     "metadata": {
      "needs_background": "light"
     },
     "output_type": "display_data"
    }
   ],
   "source": [
    "#print the results\n",
    "print(f'Kneihbours Classifier:\\n Accuracy: {accuracy_dt}\\n Precision: {precision_dt}\\n Recall: {recall_dt}\\n F1 Score: {f1_dt}')\n",
    "sns.heatmap(cm_dt, annot=True, fmt='d', cmap='gray')\n",
    "plt.title('Kneighbours Classifier Confusion Matrix')\n",
    "plt.show()"
   ]
  },
  {
   "cell_type": "code",
   "execution_count": 28,
   "id": "6e2ac734",
   "metadata": {},
   "outputs": [],
   "source": [
    "#XGB CLASSIFIER\n",
    "xgb_model = XGBClassifier().fit(x_train, y_train)\n",
    "y_pred_xgb = xgb_model.predict(x_test)"
   ]
  },
  {
   "cell_type": "code",
   "execution_count": 29,
   "id": "89d4cba4",
   "metadata": {},
   "outputs": [],
   "source": [
    "#evaluvate the model\n",
    "accuracy_dt = accuracy_score(y_test, y_pred_xgb)\n",
    "precision_dt = precision_score(y_test, y_pred_xgb)\n",
    "recall_dt = recall_score(y_test, y_pred_xgb)\n",
    "f1_dt = f1_score(y_test, y_pred_xgb)\n",
    "cm_dt = confusion_matrix(y_test, y_pred_xgb)"
   ]
  },
  {
   "cell_type": "code",
   "execution_count": 30,
   "id": "a44f7890",
   "metadata": {},
   "outputs": [
    {
     "name": "stdout",
     "output_type": "stream",
     "text": [
      "XGB Classifier:\n",
      " Accuracy: 0.95\n",
      " Precision: 0.991304347826087\n",
      " Recall: 0.890625\n",
      " F1 Score: 0.9382716049382716\n"
     ]
    },
    {
     "data": {
      "image/png": "[encoded data removed]",
      "text/plain": [
       "<Figure size 432x288 with 2 Axes>"
      ]
     },
     "metadata": {
      "needs_background": "light"
     },
     "output_type": "display_data"
    }
   ],
   "source": [
    "#print the results\n",
    "print(f'XGB Classifier:\\n Accuracy: {accuracy_dt}\\n Precision: {precision_dt}\\n Recall: {recall_dt}\\n F1 Score: {f1_dt}')\n",
    "sns.heatmap(cm_dt, annot=True, fmt='d', cmap='gray')\n",
    "plt.title('XGB Classifier Confusion Matrix')\n",
    "plt.show()"
   ]
  }
 ],
 "metadata": {
  "kernelspec": {
   "display_name": "Python 3 (ipykernel)",
   "language": "python",
   "name": "python3"
  },
  "language_info": {
   "codemirror_mode": {
    "name": "ipython",
    "version": 3
   },
   "file_extension": ".py",
   "mimetype": "text/x-python",
   "name": "python",
   "nbconvert_exporter": "python",
   "pygments_lexer": "ipython3",
   "version": "3.9.12"
  }
 },
 "nbformat": 4,
 "nbformat_minor": 5
}
